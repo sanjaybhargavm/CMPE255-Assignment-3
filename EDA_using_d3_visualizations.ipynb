{
  "nbformat": 4,
  "nbformat_minor": 0,
  "metadata": {
    "colab": {
      "provenance": [],
      "collapsed_sections": []
    },
    "kernelspec": {
      "name": "python3",
      "display_name": "Python 3"
    },
    "language_info": {
      "name": "python"
    }
  },
  "cells": [
    {
      "cell_type": "markdown",
      "source": [
        "## **EDA on Fifa 2019 Data**"
      ],
      "metadata": {
        "id": "t1DHJR635f9V"
      }
    },
    {
      "cell_type": "markdown",
      "source": [
        "Used kaggle dataset on fifa 19 data(uploaded the file to google drive)"
      ],
      "metadata": {
        "id": "NBxsK11157N4"
      }
    },
    {
      "cell_type": "markdown",
      "source": [
        "**Mounting google drive**"
      ],
      "metadata": {
        "id": "bk23UQuBRwou"
      }
    },
    {
      "cell_type": "code",
      "source": [
        "from google.colab import drive\n",
        "drive.mount('/content/gdrive')"
      ],
      "metadata": {
        "colab": {
          "base_uri": "https://localhost:8080/"
        },
        "id": "QhbcOxh65sN5",
        "outputId": "fea76a55-8e5a-44af-e490-9a51a5827c87"
      },
      "execution_count": 2,
      "outputs": [
        {
          "output_type": "stream",
          "name": "stdout",
          "text": [
            "Mounted at /content/gdrive\n"
          ]
        }
      ]
    },
    {
      "cell_type": "markdown",
      "source": [
        "**importing libraries**"
      ],
      "metadata": {
        "id": "J03FVvCiJ8yn"
      }
    },
    {
      "cell_type": "code",
      "source": [
        "import os\n",
        "import gc\n",
        "import time\n",
        "import random\n",
        "import math\n",
        "from tqdm import tqdm\n",
        "import warnings\n",
        "import pandas as pd\n",
        "import numpy as np\n",
        "\n",
        "# For the plots\n",
        "import seaborn as sns\n",
        "import matplotlib as mpl\n",
        "import matplotlib.pyplot as plt\n",
        "import json\n",
        "from mlxtend.plotting import category_scatter\n",
        "%matplotlib inline\n",
        "sns.set_style(\"whitegrid\")\n",
        "\n",
        "\n",
        "import matplotlib.patches as patches\n",
        "import matplotlib.pyplot as plt\n",
        "import matplotlib.image as mpimg\n",
        "import IPython.display as py_display\n",
        "from matplotlib.offsetbox import AnnotationBbox, OffsetImage\n"
      ],
      "metadata": {
        "id": "2u6CufBdKDtX"
      },
      "execution_count": 48,
      "outputs": []
    },
    {
      "cell_type": "markdown",
      "source": [
        "# **Reading the data**"
      ],
      "metadata": {
        "id": "et5XSe8cRKxu"
      }
    },
    {
      "cell_type": "code",
      "source": [
        "data= pd.read_csv('/content/gdrive/MyDrive/Colab Notebooks/fifa_eda.csv')"
      ],
      "metadata": {
        "id": "AVnj4wjpJlKb"
      },
      "execution_count": 5,
      "outputs": []
    },
    {
      "cell_type": "code",
      "source": [
        "data.head()"
      ],
      "metadata": {
        "colab": {
          "base_uri": "https://localhost:8080/",
          "height": 387
        },
        "id": "gJQoGPEPRVpz",
        "outputId": "8ea27a36-d73d-42ed-84a2-35a09ad03d8e"
      },
      "execution_count": 6,
      "outputs": [
        {
          "output_type": "execute_result",
          "data": {
            "text/plain": [
              "       ID               Name  Age Nationality  Overall  Potential  \\\n",
              "0  158023           L. Messi   31   Argentina       94         94   \n",
              "1   20801  Cristiano Ronaldo   33    Portugal       94         94   \n",
              "2  190871          Neymar Jr   26      Brazil       92         93   \n",
              "3  193080             De Gea   27       Spain       91         93   \n",
              "4  192985       K. De Bruyne   27     Belgium       91         92   \n",
              "\n",
              "                  Club     Value   Wage Preferred Foot  \\\n",
              "0         FC Barcelona  110500.0  565.0           Left   \n",
              "1             Juventus   77000.0  405.0          Right   \n",
              "2  Paris Saint-Germain  118500.0  290.0          Right   \n",
              "3    Manchester United   72000.0  260.0          Right   \n",
              "4      Manchester City  102000.0  355.0          Right   \n",
              "\n",
              "   International Reputation  Skill Moves Position  Joined  \\\n",
              "0                       5.0          4.0       RF    2004   \n",
              "1                       5.0          5.0       ST    2018   \n",
              "2                       5.0          5.0       LW    2017   \n",
              "3                       4.0          1.0       GK    2011   \n",
              "4                       4.0          4.0      RCM    2015   \n",
              "\n",
              "  Contract Valid Until    Height  Weight  Release Clause  \n",
              "0           2021-01-01  5.583333   159.0        226500.0  \n",
              "1           2022-01-01  6.166667   183.0        127100.0  \n",
              "2           2022-01-01  5.750000   150.0        228100.0  \n",
              "3           2020-01-01  6.333333   168.0        138600.0  \n",
              "4           2023-01-01  5.916667   154.0        196400.0  "
            ],
            "text/html": [
              "\n",
              "  <div id=\"df-0625938c-d8d5-4750-8a50-a39dcfa1f408\">\n",
              "    <div class=\"colab-df-container\">\n",
              "      <div>\n",
              "<style scoped>\n",
              "    .dataframe tbody tr th:only-of-type {\n",
              "        vertical-align: middle;\n",
              "    }\n",
              "\n",
              "    .dataframe tbody tr th {\n",
              "        vertical-align: top;\n",
              "    }\n",
              "\n",
              "    .dataframe thead th {\n",
              "        text-align: right;\n",
              "    }\n",
              "</style>\n",
              "<table border=\"1\" class=\"dataframe\">\n",
              "  <thead>\n",
              "    <tr style=\"text-align: right;\">\n",
              "      <th></th>\n",
              "      <th>ID</th>\n",
              "      <th>Name</th>\n",
              "      <th>Age</th>\n",
              "      <th>Nationality</th>\n",
              "      <th>Overall</th>\n",
              "      <th>Potential</th>\n",
              "      <th>Club</th>\n",
              "      <th>Value</th>\n",
              "      <th>Wage</th>\n",
              "      <th>Preferred Foot</th>\n",
              "      <th>International Reputation</th>\n",
              "      <th>Skill Moves</th>\n",
              "      <th>Position</th>\n",
              "      <th>Joined</th>\n",
              "      <th>Contract Valid Until</th>\n",
              "      <th>Height</th>\n",
              "      <th>Weight</th>\n",
              "      <th>Release Clause</th>\n",
              "    </tr>\n",
              "  </thead>\n",
              "  <tbody>\n",
              "    <tr>\n",
              "      <th>0</th>\n",
              "      <td>158023</td>\n",
              "      <td>L. Messi</td>\n",
              "      <td>31</td>\n",
              "      <td>Argentina</td>\n",
              "      <td>94</td>\n",
              "      <td>94</td>\n",
              "      <td>FC Barcelona</td>\n",
              "      <td>110500.0</td>\n",
              "      <td>565.0</td>\n",
              "      <td>Left</td>\n",
              "      <td>5.0</td>\n",
              "      <td>4.0</td>\n",
              "      <td>RF</td>\n",
              "      <td>2004</td>\n",
              "      <td>2021-01-01</td>\n",
              "      <td>5.583333</td>\n",
              "      <td>159.0</td>\n",
              "      <td>226500.0</td>\n",
              "    </tr>\n",
              "    <tr>\n",
              "      <th>1</th>\n",
              "      <td>20801</td>\n",
              "      <td>Cristiano Ronaldo</td>\n",
              "      <td>33</td>\n",
              "      <td>Portugal</td>\n",
              "      <td>94</td>\n",
              "      <td>94</td>\n",
              "      <td>Juventus</td>\n",
              "      <td>77000.0</td>\n",
              "      <td>405.0</td>\n",
              "      <td>Right</td>\n",
              "      <td>5.0</td>\n",
              "      <td>5.0</td>\n",
              "      <td>ST</td>\n",
              "      <td>2018</td>\n",
              "      <td>2022-01-01</td>\n",
              "      <td>6.166667</td>\n",
              "      <td>183.0</td>\n",
              "      <td>127100.0</td>\n",
              "    </tr>\n",
              "    <tr>\n",
              "      <th>2</th>\n",
              "      <td>190871</td>\n",
              "      <td>Neymar Jr</td>\n",
              "      <td>26</td>\n",
              "      <td>Brazil</td>\n",
              "      <td>92</td>\n",
              "      <td>93</td>\n",
              "      <td>Paris Saint-Germain</td>\n",
              "      <td>118500.0</td>\n",
              "      <td>290.0</td>\n",
              "      <td>Right</td>\n",
              "      <td>5.0</td>\n",
              "      <td>5.0</td>\n",
              "      <td>LW</td>\n",
              "      <td>2017</td>\n",
              "      <td>2022-01-01</td>\n",
              "      <td>5.750000</td>\n",
              "      <td>150.0</td>\n",
              "      <td>228100.0</td>\n",
              "    </tr>\n",
              "    <tr>\n",
              "      <th>3</th>\n",
              "      <td>193080</td>\n",
              "      <td>De Gea</td>\n",
              "      <td>27</td>\n",
              "      <td>Spain</td>\n",
              "      <td>91</td>\n",
              "      <td>93</td>\n",
              "      <td>Manchester United</td>\n",
              "      <td>72000.0</td>\n",
              "      <td>260.0</td>\n",
              "      <td>Right</td>\n",
              "      <td>4.0</td>\n",
              "      <td>1.0</td>\n",
              "      <td>GK</td>\n",
              "      <td>2011</td>\n",
              "      <td>2020-01-01</td>\n",
              "      <td>6.333333</td>\n",
              "      <td>168.0</td>\n",
              "      <td>138600.0</td>\n",
              "    </tr>\n",
              "    <tr>\n",
              "      <th>4</th>\n",
              "      <td>192985</td>\n",
              "      <td>K. De Bruyne</td>\n",
              "      <td>27</td>\n",
              "      <td>Belgium</td>\n",
              "      <td>91</td>\n",
              "      <td>92</td>\n",
              "      <td>Manchester City</td>\n",
              "      <td>102000.0</td>\n",
              "      <td>355.0</td>\n",
              "      <td>Right</td>\n",
              "      <td>4.0</td>\n",
              "      <td>4.0</td>\n",
              "      <td>RCM</td>\n",
              "      <td>2015</td>\n",
              "      <td>2023-01-01</td>\n",
              "      <td>5.916667</td>\n",
              "      <td>154.0</td>\n",
              "      <td>196400.0</td>\n",
              "    </tr>\n",
              "  </tbody>\n",
              "</table>\n",
              "</div>\n",
              "      <button class=\"colab-df-convert\" onclick=\"convertToInteractive('df-0625938c-d8d5-4750-8a50-a39dcfa1f408')\"\n",
              "              title=\"Convert this dataframe to an interactive table.\"\n",
              "              style=\"display:none;\">\n",
              "        \n",
              "  <svg xmlns=\"http://www.w3.org/2000/svg\" height=\"24px\"viewBox=\"0 0 24 24\"\n",
              "       width=\"24px\">\n",
              "    <path d=\"M0 0h24v24H0V0z\" fill=\"none\"/>\n",
              "    <path d=\"M18.56 5.44l.94 2.06.94-2.06 2.06-.94-2.06-.94-.94-2.06-.94 2.06-2.06.94zm-11 1L8.5 8.5l.94-2.06 2.06-.94-2.06-.94L8.5 2.5l-.94 2.06-2.06.94zm10 10l.94 2.06.94-2.06 2.06-.94-2.06-.94-.94-2.06-.94 2.06-2.06.94z\"/><path d=\"M17.41 7.96l-1.37-1.37c-.4-.4-.92-.59-1.43-.59-.52 0-1.04.2-1.43.59L10.3 9.45l-7.72 7.72c-.78.78-.78 2.05 0 2.83L4 21.41c.39.39.9.59 1.41.59.51 0 1.02-.2 1.41-.59l7.78-7.78 2.81-2.81c.8-.78.8-2.07 0-2.86zM5.41 20L4 18.59l7.72-7.72 1.47 1.35L5.41 20z\"/>\n",
              "  </svg>\n",
              "      </button>\n",
              "      \n",
              "  <style>\n",
              "    .colab-df-container {\n",
              "      display:flex;\n",
              "      flex-wrap:wrap;\n",
              "      gap: 12px;\n",
              "    }\n",
              "\n",
              "    .colab-df-convert {\n",
              "      background-color: #E8F0FE;\n",
              "      border: none;\n",
              "      border-radius: 50%;\n",
              "      cursor: pointer;\n",
              "      display: none;\n",
              "      fill: #1967D2;\n",
              "      height: 32px;\n",
              "      padding: 0 0 0 0;\n",
              "      width: 32px;\n",
              "    }\n",
              "\n",
              "    .colab-df-convert:hover {\n",
              "      background-color: #E2EBFA;\n",
              "      box-shadow: 0px 1px 2px rgba(60, 64, 67, 0.3), 0px 1px 3px 1px rgba(60, 64, 67, 0.15);\n",
              "      fill: #174EA6;\n",
              "    }\n",
              "\n",
              "    [theme=dark] .colab-df-convert {\n",
              "      background-color: #3B4455;\n",
              "      fill: #D2E3FC;\n",
              "    }\n",
              "\n",
              "    [theme=dark] .colab-df-convert:hover {\n",
              "      background-color: #434B5C;\n",
              "      box-shadow: 0px 1px 3px 1px rgba(0, 0, 0, 0.15);\n",
              "      filter: drop-shadow(0px 1px 2px rgba(0, 0, 0, 0.3));\n",
              "      fill: #FFFFFF;\n",
              "    }\n",
              "  </style>\n",
              "\n",
              "      <script>\n",
              "        const buttonEl =\n",
              "          document.querySelector('#df-0625938c-d8d5-4750-8a50-a39dcfa1f408 button.colab-df-convert');\n",
              "        buttonEl.style.display =\n",
              "          google.colab.kernel.accessAllowed ? 'block' : 'none';\n",
              "\n",
              "        async function convertToInteractive(key) {\n",
              "          const element = document.querySelector('#df-0625938c-d8d5-4750-8a50-a39dcfa1f408');\n",
              "          const dataTable =\n",
              "            await google.colab.kernel.invokeFunction('convertToInteractive',\n",
              "                                                     [key], {});\n",
              "          if (!dataTable) return;\n",
              "\n",
              "          const docLinkHtml = 'Like what you see? Visit the ' +\n",
              "            '<a target=\"_blank\" href=https://colab.research.google.com/notebooks/data_table.ipynb>data table notebook</a>'\n",
              "            + ' to learn more about interactive tables.';\n",
              "          element.innerHTML = '';\n",
              "          dataTable['output_type'] = 'display_data';\n",
              "          await google.colab.output.renderOutput(dataTable, element);\n",
              "          const docLink = document.createElement('div');\n",
              "          docLink.innerHTML = docLinkHtml;\n",
              "          element.appendChild(docLink);\n",
              "        }\n",
              "      </script>\n",
              "    </div>\n",
              "  </div>\n",
              "  "
            ]
          },
          "metadata": {},
          "execution_count": 6
        }
      ]
    },
    {
      "cell_type": "code",
      "source": [
        "data.info()"
      ],
      "metadata": {
        "colab": {
          "base_uri": "https://localhost:8080/"
        },
        "id": "khzx1EwyR0gh",
        "outputId": "16dd12bd-2aa7-4e81-889a-b99c81c18cb2"
      },
      "execution_count": 7,
      "outputs": [
        {
          "output_type": "stream",
          "name": "stdout",
          "text": [
            "<class 'pandas.core.frame.DataFrame'>\n",
            "RangeIndex: 18207 entries, 0 to 18206\n",
            "Data columns (total 18 columns):\n",
            " #   Column                    Non-Null Count  Dtype  \n",
            "---  ------                    --------------  -----  \n",
            " 0   ID                        18207 non-null  int64  \n",
            " 1   Name                      18207 non-null  object \n",
            " 2   Age                       18207 non-null  int64  \n",
            " 3   Nationality               18207 non-null  object \n",
            " 4   Overall                   18207 non-null  int64  \n",
            " 5   Potential                 18207 non-null  int64  \n",
            " 6   Club                      17966 non-null  object \n",
            " 7   Value                     17955 non-null  float64\n",
            " 8   Wage                      18207 non-null  float64\n",
            " 9   Preferred Foot            18207 non-null  object \n",
            " 10  International Reputation  18159 non-null  float64\n",
            " 11  Skill Moves               18159 non-null  float64\n",
            " 12  Position                  18207 non-null  object \n",
            " 13  Joined                    18207 non-null  int64  \n",
            " 14  Contract Valid Until      17918 non-null  object \n",
            " 15  Height                    18207 non-null  float64\n",
            " 16  Weight                    18207 non-null  float64\n",
            " 17  Release Clause            18207 non-null  float64\n",
            "dtypes: float64(7), int64(5), object(6)\n",
            "memory usage: 2.5+ MB\n"
          ]
        }
      ]
    },
    {
      "cell_type": "code",
      "source": [
        "data.isna().sum()"
      ],
      "metadata": {
        "colab": {
          "base_uri": "https://localhost:8080/"
        },
        "id": "vK09tr7JR5IC",
        "outputId": "40bc8d8b-e4ee-403b-bfa9-c8765f45d7ca"
      },
      "execution_count": 8,
      "outputs": [
        {
          "output_type": "execute_result",
          "data": {
            "text/plain": [
              "ID                            0\n",
              "Name                          0\n",
              "Age                           0\n",
              "Nationality                   0\n",
              "Overall                       0\n",
              "Potential                     0\n",
              "Club                        241\n",
              "Value                       252\n",
              "Wage                          0\n",
              "Preferred Foot                0\n",
              "International Reputation     48\n",
              "Skill Moves                  48\n",
              "Position                      0\n",
              "Joined                        0\n",
              "Contract Valid Until        289\n",
              "Height                        0\n",
              "Weight                        0\n",
              "Release Clause                0\n",
              "dtype: int64"
            ]
          },
          "metadata": {},
          "execution_count": 8
        }
      ]
    },
    {
      "cell_type": "code",
      "source": [
        "data.shape"
      ],
      "metadata": {
        "colab": {
          "base_uri": "https://localhost:8080/"
        },
        "id": "okM2VdeFVLF6",
        "outputId": "23ffc310-64bd-4a8c-d866-de66852fff32"
      },
      "execution_count": 9,
      "outputs": [
        {
          "output_type": "execute_result",
          "data": {
            "text/plain": [
              "(18207, 18)"
            ]
          },
          "metadata": {},
          "execution_count": 9
        }
      ]
    },
    {
      "cell_type": "markdown",
      "source": [
        "Checking fro duplicates in datset"
      ],
      "metadata": {
        "id": "GtFbt-1gV8Z9"
      }
    },
    {
      "cell_type": "code",
      "source": [
        "data.duplicated().sum()"
      ],
      "metadata": {
        "colab": {
          "base_uri": "https://localhost:8080/"
        },
        "id": "Y7dXSQj9VVfB",
        "outputId": "53633942-c549-4c4e-93e8-b08af4f5c14e"
      },
      "execution_count": 10,
      "outputs": [
        {
          "output_type": "execute_result",
          "data": {
            "text/plain": [
              "0"
            ]
          },
          "metadata": {},
          "execution_count": 10
        }
      ]
    },
    {
      "cell_type": "markdown",
      "source": [
        "Removing Null values"
      ],
      "metadata": {
        "id": "C9Ve2TW1V_yD"
      }
    },
    {
      "cell_type": "code",
      "source": [
        "data=data.dropna()\n",
        "data.head()"
      ],
      "metadata": {
        "colab": {
          "base_uri": "https://localhost:8080/",
          "height": 387
        },
        "id": "oyv8eL1zWFP2",
        "outputId": "c2f7ed8c-efd8-4b23-b9cf-dedc546037dc"
      },
      "execution_count": 11,
      "outputs": [
        {
          "output_type": "execute_result",
          "data": {
            "text/plain": [
              "       ID               Name  Age Nationality  Overall  Potential  \\\n",
              "0  158023           L. Messi   31   Argentina       94         94   \n",
              "1   20801  Cristiano Ronaldo   33    Portugal       94         94   \n",
              "2  190871          Neymar Jr   26      Brazil       92         93   \n",
              "3  193080             De Gea   27       Spain       91         93   \n",
              "4  192985       K. De Bruyne   27     Belgium       91         92   \n",
              "\n",
              "                  Club     Value   Wage Preferred Foot  \\\n",
              "0         FC Barcelona  110500.0  565.0           Left   \n",
              "1             Juventus   77000.0  405.0          Right   \n",
              "2  Paris Saint-Germain  118500.0  290.0          Right   \n",
              "3    Manchester United   72000.0  260.0          Right   \n",
              "4      Manchester City  102000.0  355.0          Right   \n",
              "\n",
              "   International Reputation  Skill Moves Position  Joined  \\\n",
              "0                       5.0          4.0       RF    2004   \n",
              "1                       5.0          5.0       ST    2018   \n",
              "2                       5.0          5.0       LW    2017   \n",
              "3                       4.0          1.0       GK    2011   \n",
              "4                       4.0          4.0      RCM    2015   \n",
              "\n",
              "  Contract Valid Until    Height  Weight  Release Clause  \n",
              "0           2021-01-01  5.583333   159.0        226500.0  \n",
              "1           2022-01-01  6.166667   183.0        127100.0  \n",
              "2           2022-01-01  5.750000   150.0        228100.0  \n",
              "3           2020-01-01  6.333333   168.0        138600.0  \n",
              "4           2023-01-01  5.916667   154.0        196400.0  "
            ],
            "text/html": [
              "\n",
              "  <div id=\"df-3c124fca-2a6f-4f30-99c9-09d8cd46c45c\">\n",
              "    <div class=\"colab-df-container\">\n",
              "      <div>\n",
              "<style scoped>\n",
              "    .dataframe tbody tr th:only-of-type {\n",
              "        vertical-align: middle;\n",
              "    }\n",
              "\n",
              "    .dataframe tbody tr th {\n",
              "        vertical-align: top;\n",
              "    }\n",
              "\n",
              "    .dataframe thead th {\n",
              "        text-align: right;\n",
              "    }\n",
              "</style>\n",
              "<table border=\"1\" class=\"dataframe\">\n",
              "  <thead>\n",
              "    <tr style=\"text-align: right;\">\n",
              "      <th></th>\n",
              "      <th>ID</th>\n",
              "      <th>Name</th>\n",
              "      <th>Age</th>\n",
              "      <th>Nationality</th>\n",
              "      <th>Overall</th>\n",
              "      <th>Potential</th>\n",
              "      <th>Club</th>\n",
              "      <th>Value</th>\n",
              "      <th>Wage</th>\n",
              "      <th>Preferred Foot</th>\n",
              "      <th>International Reputation</th>\n",
              "      <th>Skill Moves</th>\n",
              "      <th>Position</th>\n",
              "      <th>Joined</th>\n",
              "      <th>Contract Valid Until</th>\n",
              "      <th>Height</th>\n",
              "      <th>Weight</th>\n",
              "      <th>Release Clause</th>\n",
              "    </tr>\n",
              "  </thead>\n",
              "  <tbody>\n",
              "    <tr>\n",
              "      <th>0</th>\n",
              "      <td>158023</td>\n",
              "      <td>L. Messi</td>\n",
              "      <td>31</td>\n",
              "      <td>Argentina</td>\n",
              "      <td>94</td>\n",
              "      <td>94</td>\n",
              "      <td>FC Barcelona</td>\n",
              "      <td>110500.0</td>\n",
              "      <td>565.0</td>\n",
              "      <td>Left</td>\n",
              "      <td>5.0</td>\n",
              "      <td>4.0</td>\n",
              "      <td>RF</td>\n",
              "      <td>2004</td>\n",
              "      <td>2021-01-01</td>\n",
              "      <td>5.583333</td>\n",
              "      <td>159.0</td>\n",
              "      <td>226500.0</td>\n",
              "    </tr>\n",
              "    <tr>\n",
              "      <th>1</th>\n",
              "      <td>20801</td>\n",
              "      <td>Cristiano Ronaldo</td>\n",
              "      <td>33</td>\n",
              "      <td>Portugal</td>\n",
              "      <td>94</td>\n",
              "      <td>94</td>\n",
              "      <td>Juventus</td>\n",
              "      <td>77000.0</td>\n",
              "      <td>405.0</td>\n",
              "      <td>Right</td>\n",
              "      <td>5.0</td>\n",
              "      <td>5.0</td>\n",
              "      <td>ST</td>\n",
              "      <td>2018</td>\n",
              "      <td>2022-01-01</td>\n",
              "      <td>6.166667</td>\n",
              "      <td>183.0</td>\n",
              "      <td>127100.0</td>\n",
              "    </tr>\n",
              "    <tr>\n",
              "      <th>2</th>\n",
              "      <td>190871</td>\n",
              "      <td>Neymar Jr</td>\n",
              "      <td>26</td>\n",
              "      <td>Brazil</td>\n",
              "      <td>92</td>\n",
              "      <td>93</td>\n",
              "      <td>Paris Saint-Germain</td>\n",
              "      <td>118500.0</td>\n",
              "      <td>290.0</td>\n",
              "      <td>Right</td>\n",
              "      <td>5.0</td>\n",
              "      <td>5.0</td>\n",
              "      <td>LW</td>\n",
              "      <td>2017</td>\n",
              "      <td>2022-01-01</td>\n",
              "      <td>5.750000</td>\n",
              "      <td>150.0</td>\n",
              "      <td>228100.0</td>\n",
              "    </tr>\n",
              "    <tr>\n",
              "      <th>3</th>\n",
              "      <td>193080</td>\n",
              "      <td>De Gea</td>\n",
              "      <td>27</td>\n",
              "      <td>Spain</td>\n",
              "      <td>91</td>\n",
              "      <td>93</td>\n",
              "      <td>Manchester United</td>\n",
              "      <td>72000.0</td>\n",
              "      <td>260.0</td>\n",
              "      <td>Right</td>\n",
              "      <td>4.0</td>\n",
              "      <td>1.0</td>\n",
              "      <td>GK</td>\n",
              "      <td>2011</td>\n",
              "      <td>2020-01-01</td>\n",
              "      <td>6.333333</td>\n",
              "      <td>168.0</td>\n",
              "      <td>138600.0</td>\n",
              "    </tr>\n",
              "    <tr>\n",
              "      <th>4</th>\n",
              "      <td>192985</td>\n",
              "      <td>K. De Bruyne</td>\n",
              "      <td>27</td>\n",
              "      <td>Belgium</td>\n",
              "      <td>91</td>\n",
              "      <td>92</td>\n",
              "      <td>Manchester City</td>\n",
              "      <td>102000.0</td>\n",
              "      <td>355.0</td>\n",
              "      <td>Right</td>\n",
              "      <td>4.0</td>\n",
              "      <td>4.0</td>\n",
              "      <td>RCM</td>\n",
              "      <td>2015</td>\n",
              "      <td>2023-01-01</td>\n",
              "      <td>5.916667</td>\n",
              "      <td>154.0</td>\n",
              "      <td>196400.0</td>\n",
              "    </tr>\n",
              "  </tbody>\n",
              "</table>\n",
              "</div>\n",
              "      <button class=\"colab-df-convert\" onclick=\"convertToInteractive('df-3c124fca-2a6f-4f30-99c9-09d8cd46c45c')\"\n",
              "              title=\"Convert this dataframe to an interactive table.\"\n",
              "              style=\"display:none;\">\n",
              "        \n",
              "  <svg xmlns=\"http://www.w3.org/2000/svg\" height=\"24px\"viewBox=\"0 0 24 24\"\n",
              "       width=\"24px\">\n",
              "    <path d=\"M0 0h24v24H0V0z\" fill=\"none\"/>\n",
              "    <path d=\"M18.56 5.44l.94 2.06.94-2.06 2.06-.94-2.06-.94-.94-2.06-.94 2.06-2.06.94zm-11 1L8.5 8.5l.94-2.06 2.06-.94-2.06-.94L8.5 2.5l-.94 2.06-2.06.94zm10 10l.94 2.06.94-2.06 2.06-.94-2.06-.94-.94-2.06-.94 2.06-2.06.94z\"/><path d=\"M17.41 7.96l-1.37-1.37c-.4-.4-.92-.59-1.43-.59-.52 0-1.04.2-1.43.59L10.3 9.45l-7.72 7.72c-.78.78-.78 2.05 0 2.83L4 21.41c.39.39.9.59 1.41.59.51 0 1.02-.2 1.41-.59l7.78-7.78 2.81-2.81c.8-.78.8-2.07 0-2.86zM5.41 20L4 18.59l7.72-7.72 1.47 1.35L5.41 20z\"/>\n",
              "  </svg>\n",
              "      </button>\n",
              "      \n",
              "  <style>\n",
              "    .colab-df-container {\n",
              "      display:flex;\n",
              "      flex-wrap:wrap;\n",
              "      gap: 12px;\n",
              "    }\n",
              "\n",
              "    .colab-df-convert {\n",
              "      background-color: #E8F0FE;\n",
              "      border: none;\n",
              "      border-radius: 50%;\n",
              "      cursor: pointer;\n",
              "      display: none;\n",
              "      fill: #1967D2;\n",
              "      height: 32px;\n",
              "      padding: 0 0 0 0;\n",
              "      width: 32px;\n",
              "    }\n",
              "\n",
              "    .colab-df-convert:hover {\n",
              "      background-color: #E2EBFA;\n",
              "      box-shadow: 0px 1px 2px rgba(60, 64, 67, 0.3), 0px 1px 3px 1px rgba(60, 64, 67, 0.15);\n",
              "      fill: #174EA6;\n",
              "    }\n",
              "\n",
              "    [theme=dark] .colab-df-convert {\n",
              "      background-color: #3B4455;\n",
              "      fill: #D2E3FC;\n",
              "    }\n",
              "\n",
              "    [theme=dark] .colab-df-convert:hover {\n",
              "      background-color: #434B5C;\n",
              "      box-shadow: 0px 1px 3px 1px rgba(0, 0, 0, 0.15);\n",
              "      filter: drop-shadow(0px 1px 2px rgba(0, 0, 0, 0.3));\n",
              "      fill: #FFFFFF;\n",
              "    }\n",
              "  </style>\n",
              "\n",
              "      <script>\n",
              "        const buttonEl =\n",
              "          document.querySelector('#df-3c124fca-2a6f-4f30-99c9-09d8cd46c45c button.colab-df-convert');\n",
              "        buttonEl.style.display =\n",
              "          google.colab.kernel.accessAllowed ? 'block' : 'none';\n",
              "\n",
              "        async function convertToInteractive(key) {\n",
              "          const element = document.querySelector('#df-3c124fca-2a6f-4f30-99c9-09d8cd46c45c');\n",
              "          const dataTable =\n",
              "            await google.colab.kernel.invokeFunction('convertToInteractive',\n",
              "                                                     [key], {});\n",
              "          if (!dataTable) return;\n",
              "\n",
              "          const docLinkHtml = 'Like what you see? Visit the ' +\n",
              "            '<a target=\"_blank\" href=https://colab.research.google.com/notebooks/data_table.ipynb>data table notebook</a>'\n",
              "            + ' to learn more about interactive tables.';\n",
              "          element.innerHTML = '';\n",
              "          dataTable['output_type'] = 'display_data';\n",
              "          await google.colab.output.renderOutput(dataTable, element);\n",
              "          const docLink = document.createElement('div');\n",
              "          docLink.innerHTML = docLinkHtml;\n",
              "          element.appendChild(docLink);\n",
              "        }\n",
              "      </script>\n",
              "    </div>\n",
              "  </div>\n",
              "  "
            ]
          },
          "metadata": {},
          "execution_count": 11
        }
      ]
    },
    {
      "cell_type": "code",
      "source": [
        "data.info()"
      ],
      "metadata": {
        "colab": {
          "base_uri": "https://localhost:8080/"
        },
        "id": "J54fwoymWX5M",
        "outputId": "4ab6364c-d816-48c2-ac39-ae77751d81c4"
      },
      "execution_count": 12,
      "outputs": [
        {
          "output_type": "stream",
          "name": "stdout",
          "text": [
            "<class 'pandas.core.frame.DataFrame'>\n",
            "Int64Index: 17907 entries, 0 to 18206\n",
            "Data columns (total 18 columns):\n",
            " #   Column                    Non-Null Count  Dtype  \n",
            "---  ------                    --------------  -----  \n",
            " 0   ID                        17907 non-null  int64  \n",
            " 1   Name                      17907 non-null  object \n",
            " 2   Age                       17907 non-null  int64  \n",
            " 3   Nationality               17907 non-null  object \n",
            " 4   Overall                   17907 non-null  int64  \n",
            " 5   Potential                 17907 non-null  int64  \n",
            " 6   Club                      17907 non-null  object \n",
            " 7   Value                     17907 non-null  float64\n",
            " 8   Wage                      17907 non-null  float64\n",
            " 9   Preferred Foot            17907 non-null  object \n",
            " 10  International Reputation  17907 non-null  float64\n",
            " 11  Skill Moves               17907 non-null  float64\n",
            " 12  Position                  17907 non-null  object \n",
            " 13  Joined                    17907 non-null  int64  \n",
            " 14  Contract Valid Until      17907 non-null  object \n",
            " 15  Height                    17907 non-null  float64\n",
            " 16  Weight                    17907 non-null  float64\n",
            " 17  Release Clause            17907 non-null  float64\n",
            "dtypes: float64(7), int64(5), object(6)\n",
            "memory usage: 2.6+ MB\n"
          ]
        }
      ]
    },
    {
      "cell_type": "markdown",
      "source": [
        "**Data after removing null values**"
      ],
      "metadata": {
        "id": "VQ7V3LTwWjbM"
      }
    },
    {
      "cell_type": "code",
      "source": [
        "data.isna().sum()"
      ],
      "metadata": {
        "colab": {
          "base_uri": "https://localhost:8080/"
        },
        "id": "5-f6dNF9WgyC",
        "outputId": "8d15522a-ae8f-46f9-b1be-3b368eaee71f"
      },
      "execution_count": 13,
      "outputs": [
        {
          "output_type": "execute_result",
          "data": {
            "text/plain": [
              "ID                          0\n",
              "Name                        0\n",
              "Age                         0\n",
              "Nationality                 0\n",
              "Overall                     0\n",
              "Potential                   0\n",
              "Club                        0\n",
              "Value                       0\n",
              "Wage                        0\n",
              "Preferred Foot              0\n",
              "International Reputation    0\n",
              "Skill Moves                 0\n",
              "Position                    0\n",
              "Joined                      0\n",
              "Contract Valid Until        0\n",
              "Height                      0\n",
              "Weight                      0\n",
              "Release Clause              0\n",
              "dtype: int64"
            ]
          },
          "metadata": {},
          "execution_count": 13
        }
      ]
    },
    {
      "cell_type": "markdown",
      "source": [
        "## **Checking the Categorical Varables**"
      ],
      "metadata": {
        "id": "g8eB2nryXkTy"
      }
    },
    {
      "cell_type": "code",
      "source": [
        "data['Nationality'].unique()"
      ],
      "metadata": {
        "colab": {
          "base_uri": "https://localhost:8080/"
        },
        "id": "giqUARXzXqpX",
        "outputId": "dcd4e91a-7e95-4b3c-e490-aaba0d2e16ba"
      },
      "execution_count": 14,
      "outputs": [
        {
          "output_type": "execute_result",
          "data": {
            "text/plain": [
              "array(['Argentina', 'Portugal', 'Brazil', 'Spain', 'Belgium', 'Croatia',\n",
              "       'Uruguay', 'Slovenia', 'Poland', 'Germany', 'France', 'England',\n",
              "       'Italy', 'Egypt', 'Colombia', 'Denmark', 'Gabon', 'Wales',\n",
              "       'Senegal', 'Costa Rica', 'Slovakia', 'Netherlands',\n",
              "       'Bosnia Herzegovina', 'Morocco', 'Serbia', 'Algeria', 'Austria',\n",
              "       'Greece', 'Chile', 'Sweden', 'Korea Republic', 'Finland', 'Guinea',\n",
              "       'Montenegro', 'Armenia', 'Switzerland', 'Norway', 'Czech Republic',\n",
              "       'Scotland', 'Ghana', 'Central African Rep.', 'DR Congo',\n",
              "       'Ivory Coast', 'Russia', 'Ukraine', 'Iceland', 'Mexico', 'Jamaica',\n",
              "       'Albania', 'Venezuela', 'Japan', 'Turkey', 'Ecuador', 'Paraguay',\n",
              "       'Mali', 'Nigeria', 'Cameroon', 'Dominican Republic', 'Israel',\n",
              "       'Kenya', 'Hungary', 'Republic of Ireland', 'Romania',\n",
              "       'United States', 'Cape Verde', 'Australia', 'Peru', 'Togo',\n",
              "       'Syria', 'Zimbabwe', 'Angola', 'Burkina Faso', 'Iran', 'Estonia',\n",
              "       'Tunisia', 'Equatorial Guinea', 'New Zealand', 'FYR Macedonia',\n",
              "       'United Arab Emirates', 'China PR', 'Guinea Bissau', 'Bulgaria',\n",
              "       'Kosovo', 'South Africa', 'Madagascar', 'Georgia', 'Tanzania',\n",
              "       'Gambia', 'Cuba', 'Belarus', 'Uzbekistan', 'Benin', 'Congo',\n",
              "       'Mozambique', 'Honduras', 'Canada', 'Northern Ireland', 'Cyprus',\n",
              "       'Saudi Arabia', 'Curacao', 'Moldova', 'Bolivia',\n",
              "       'Trinidad & Tobago', 'Sierra Leone', 'Zambia', 'Chad',\n",
              "       'Philippines', 'Haiti', 'Comoros', 'Libya', 'Panama',\n",
              "       'São Tomé & Príncipe', 'Eritrea', 'Oman', 'Iraq', 'Burundi',\n",
              "       'Fiji', 'New Caledonia', 'Lithuania', 'Luxembourg', 'Korea DPR',\n",
              "       'Liechtenstein', 'St Kitts Nevis', 'Latvia', 'Suriname', 'Uganda',\n",
              "       'El Salvador', 'Bermuda', 'Kuwait', 'Antigua & Barbuda',\n",
              "       'Thailand', 'Mauritius', 'Guatemala', 'Liberia', 'Kazakhstan',\n",
              "       'Niger', 'Mauritania', 'Montserrat', 'Namibia', 'Azerbaijan',\n",
              "       'Guam', 'Faroe Islands', 'Nicaragua', 'Barbados', 'Lebanon',\n",
              "       'Palestine', 'Guyana', 'Sudan', 'St Lucia', 'Ethiopia',\n",
              "       'Puerto Rico', 'Grenada', 'Jordan', 'Rwanda', 'Qatar',\n",
              "       'Afghanistan', 'Hong Kong', 'Andorra', 'Malta', 'Belize',\n",
              "       'South Sudan', 'Indonesia', 'Botswana'], dtype=object)"
            ]
          },
          "metadata": {},
          "execution_count": 14
        }
      ]
    },
    {
      "cell_type": "code",
      "source": [
        "data['Club'].unique()"
      ],
      "metadata": {
        "colab": {
          "base_uri": "https://localhost:8080/"
        },
        "id": "Jw15bMnyYFrO",
        "outputId": "bb160c10-cdef-4fa5-c565-2d52bd5f301e"
      },
      "execution_count": 15,
      "outputs": [
        {
          "output_type": "execute_result",
          "data": {
            "text/plain": [
              "array(['FC Barcelona', 'Juventus', 'Paris Saint-Germain',\n",
              "       'Manchester United', 'Manchester City', 'Chelsea', 'Real Madrid',\n",
              "       'Atlético Madrid', 'FC Bayern München', 'Tottenham Hotspur',\n",
              "       'Liverpool', 'Napoli', 'Arsenal', 'Milan', 'Inter', 'Lazio',\n",
              "       'Borussia Dortmund', 'Vissel Kobe', 'Olympique Lyonnais', 'Roma',\n",
              "       'Valencia CF', 'Guangzhou Evergrande Taobao FC', 'FC Porto',\n",
              "       'FC Schalke 04', 'Beşiktaş JK', 'LA Galaxy', 'Sporting CP',\n",
              "       'Real Betis', 'Olympique de Marseille', 'RC Celta',\n",
              "       'Bayer 04 Leverkusen', 'Real Sociedad', 'Villarreal CF',\n",
              "       'Sevilla FC', 'SL Benfica', 'AS Saint-Étienne', 'AS Monaco',\n",
              "       'Leicester City', 'Atalanta', 'Grêmio', 'Atlético Mineiro',\n",
              "       'RB Leipzig', 'Ajax', 'Dalian YiFang FC', 'Everton',\n",
              "       'West Ham United', '1. FC Köln', 'TSG 1899 Hoffenheim',\n",
              "       'Shanghai SIPG FC', 'OGC Nice', 'Al Nassr',\n",
              "       'Wolverhampton Wanderers', 'Borussia Mönchengladbach',\n",
              "       'Hertha BSC', 'SV Werder Bremen', 'Cruzeiro',\n",
              "       'Athletic Club de Bilbao', 'Torino', 'Medipol Başakşehir FK',\n",
              "       'Beijing Sinobo Guoan FC', 'Crystal Palace', 'PFC CSKA Moscow',\n",
              "       'VfL Wolfsburg', 'Shakhtar Donetsk', 'Toronto FC',\n",
              "       'Lokomotiv Moscow', 'Sassuolo', 'New York City FC', 'Fluminense',\n",
              "       'PSV', 'Levante UD', 'Fulham', 'Watford', 'Atlanta United',\n",
              "       'Montpellier HSC', 'Galatasaray SK', 'Fenerbahçe SK', 'SD Eibar',\n",
              "       'Los Angeles FC', 'Sampdoria', 'Al Hilal', 'VfB Stuttgart',\n",
              "       'SC Braga', 'River Plate', 'Deportivo Alavés',\n",
              "       'Eintracht Frankfurt', 'Girona FC', 'Guangzhou R&F; FC', 'Burnley',\n",
              "       'Stoke City', 'Southampton', 'Tianjin Quanjian FC', 'Getafe CF',\n",
              "       'Beijing Renhe FC', 'Montreal Impact', 'Chievo Verona', 'Genoa',\n",
              "       'Portland Timbers', 'Tigres U.A.N.L.', 'RCD Espanyol',\n",
              "       'Hebei China Fortune FC', 'Cagliari', 'Chicago Fire', 'DC United',\n",
              "       'Sagan Tosu', 'Dynamo Kyiv', 'Santos', 'Internacional',\n",
              "       'América FC (Minas Gerais)', 'Independiente', 'Boca Juniors',\n",
              "       'Cruz Azul', '1. FSV Mainz 05', 'Bournemouth', 'Spartak Moscow',\n",
              "       'Racing Club', 'FC Augsburg', 'Fiorentina', 'FC Nantes',\n",
              "       'Feyenoord', 'Club Brugge KV', 'Brighton & Hove Albion', 'Al Ahli',\n",
              "       'Jiangsu Suning FC', 'SC Freiburg', 'PAOK', 'Stade Rennais FC',\n",
              "       'Trabzonspor', 'SPAL', 'Portimonense SC', 'Olympiacos CFP',\n",
              "       'Club Atlético Huracán', 'Kasimpaşa SK', 'Newcastle United',\n",
              "       'Frosinone', 'Querétaro', 'KRC Genk', 'Hannover 96',\n",
              "       'Stade Malherbe Caen', 'Godoy Cruz', 'Toulouse Football Club',\n",
              "       'RSC Anderlecht', 'Huddersfield Town', 'CD Tondela',\n",
              "       'Seattle Sounders FC', 'Hamburger SV', 'FC Red Bull Salzburg',\n",
              "       'Rio Ave FC', 'FC Girondins de Bordeaux', 'Melbourne Victory',\n",
              "       'Parma', 'FC Basel 1893', 'Al Wehda', 'BSC Young Boys', 'KAA Gent',\n",
              "       'Al Ittihad', 'Standard de Liège', 'Shanghai Greenland Shenhua FC',\n",
              "       'Colo-Colo', 'Junior FC', 'West Bromwich Albion',\n",
              "       'RC Strasbourg Alsace', 'Göztepe SK', 'Deportivo Cali',\n",
              "       'Deportivo Toluca', 'Bologna', 'Nagoya Grampus', 'Amiens SC',\n",
              "       'Changchun Yatai FC', 'Club Atlético Lanús', 'Botafogo',\n",
              "       'Club América', 'Udinese', 'Real Valladolid CF', 'CD Leganés',\n",
              "       'Club Atlético Banfield', 'Celtic', 'Vitória Guimarães',\n",
              "       'FC København', 'UD Las Palmas', 'Deportivo de La Coruña',\n",
              "       'Universidad Católica', 'San Lorenzo de Almagro', 'Rayo Vallecano',\n",
              "       'Monterrey', 'Columbus Crew SC', 'MKE Ankaragücü',\n",
              "       'Guizhou Hengfeng FC', 'Swansea City', 'Tianjin TEDA FC',\n",
              "       'Chongqing Dangdai Lifan FC SWM Team', 'AEK Athens', 'Al Taawoun',\n",
              "       'Melbourne City FC', 'En Avant de Guingamp',\n",
              "       'Akhisar Belediyespor', 'Foggia', 'LOSC Lille', '1. FC Nürnberg',\n",
              "       'Clube Sport Marítimo', 'Real Sporting de Gijón', 'BB Erzurumspor',\n",
              "       'Shandong Luneng TaiShan FC', 'Club Atlético Colón', 'Bahia',\n",
              "       'Once Caldas', 'FC Groningen', 'Angers SCO', 'Paraná',\n",
              "       'Antalyaspor', 'Minnesota United FC', 'Club León', 'Empoli',\n",
              "       'VVV-Venlo', 'Leeds United', 'Viktoria Plzeň', 'Alanyaspor',\n",
              "       'Atlético Paranaense', 'Derby County', 'Kawasaki Frontale',\n",
              "       'Cardiff City', 'Aston Villa', 'Guadalajara', 'Dijon FCO',\n",
              "       'Santos Laguna', 'Málaga CF', 'Vitória', 'Çaykur Rizespor',\n",
              "       'U.N.A.M.', 'Nottingham Forest', 'Royal Antwerp FC',\n",
              "       'Club Tijuana', 'Sport Club do Recife', 'Real Salt Lake',\n",
              "       'AZ Alkmaar', 'SK Slavia Praha', 'Willem II', 'Middlesbrough',\n",
              "       'Dinamo Zagreb', 'Club Atlas', 'Granada CF', 'Sydney FC',\n",
              "       'Sporting Kansas City', 'SV Zulte-Waregem', 'Philadelphia Union',\n",
              "       'Real Oviedo', 'Pachuca', 'Boavista FC', 'Atiker Konyaspor',\n",
              "       'Kaizer Chiefs', 'GD Chaves', 'Palermo', 'Atlético Nacional',\n",
              "       'Puebla FC', 'Perth Glory', 'Panathinaikos FC', 'FC Sion',\n",
              "       'Vitória de Setúbal', 'New York Red Bulls', 'Al Shabab',\n",
              "       'Monarcas Morelia', 'Albacete BP', 'Rangers FC', 'Sparta Praha',\n",
              "       'Legia Warszawa', 'Urawa Red Diamonds', 'Rosario Central',\n",
              "       'Stade de Reims', 'ADO Den Haag', 'Chapecoense', 'FC Midtjylland',\n",
              "       'San Jose Earthquakes', 'Belgrano de Córdoba', 'Brescia',\n",
              "       'Kashima Antlers', 'CD Everton de Viña del Mar',\n",
              "       'Fortuna Düsseldorf', 'SD Huesca', 'Preston North End',\n",
              "       'Club Atlético Talleres', 'Benevento', 'Vitesse',\n",
              "       'Gimnasia y Esgrima La Plata', 'Houston Dynamo', 'Club Necaxa',\n",
              "       'Norwich City', 'Holstein Kiel', 'Ettifaq FC', 'Kayserispor',\n",
              "       '1. FC Heidenheim 1846', 'Brentford', 'Yeni Malatyaspor',\n",
              "       'Lobos BUAP', 'Bursaspor', 'Ceará Sporting Club',\n",
              "       'Sheffield United', 'FC Ingolstadt 04', 'Estudiantes de La Plata',\n",
              "       'AIK', 'Queens Park Rangers', 'Suwon Samsung Bluewings',\n",
              "       'Heart of Midlothian', 'Reading', 'FC Dallas', 'Heracles Almelo',\n",
              "       'Venezia FC', 'CD Lugo', 'Henan Jianye FC', 'Orlando City SC',\n",
              "       'CA Osasuna', 'NAC Breda', 'Livorno', 'Universidad de Chile',\n",
              "       'Brøndby IF', 'Aberdeen', 'Defensa y Justicia', 'Atlético Tucumán',\n",
              "       'Blackburn Rovers', 'SV Darmstadt 98', 'Moreirense FC',\n",
              "       'Sanfrecce Hiroshima', 'CD Numancia', 'KV Oostende', 'FC Utrecht',\n",
              "       'Vancouver Whitecaps FC', 'Odense Boldklub', 'SC Heerenveen',\n",
              "       'Racing Club de Lens', 'Independiente Santa Fe',\n",
              "       'Sporting de Charleroi', 'Millonarios FC', 'Sheffield Wednesday',\n",
              "       'Perugia', 'Daegu FC', 'Vélez Sarsfield',\n",
              "       'Grasshopper Club Zürich', 'Sivasspor', 'Nîmes Olympique',\n",
              "       'Rosenborg BK', 'SK Sturm Graz', 'FC Metz',\n",
              "       'CD Universidad de Concepción', 'Hellas Verona', 'Brisbane Roar',\n",
              "       'CD Feirense', 'Hull City', 'Waasland-Beveren', 'Neuchâtel Xamax',\n",
              "       'Real Zaragoza', 'CD Aves', 'Millwall', 'Unión de Santa Fe',\n",
              "       'KAS Eupen', 'Cádiz CF', 'FC Tokyo', 'CD Tenerife',\n",
              "       '1. FC Union Berlin', 'Al Fayha', 'AJ Auxerre',\n",
              "       'Patriotas Boyacá FC', 'Molde FK', 'Bristol City', 'CD Nacional',\n",
              "       'Sporting Lokeren', 'FC St. Pauli', 'Deportes Iquique',\n",
              "       'Al Qadisiyah', 'Atlético Bucaramanga', 'Club Atlético Tigre',\n",
              "       'FK Austria Wien', 'Patronato', 'Malmö FF', 'Kashiwa Reysol',\n",
              "       'US Cremonese', 'VfL Bochum 1848', 'SK Rapid Wien',\n",
              "       'KSV Cercle Brugge', 'Rionegro Águilas', 'Gimnàstic de Tarragona',\n",
              "       'Lecce', 'Santa Clara', 'BK Häcken', 'New England Revolution',\n",
              "       'Orlando Pirates', 'Atlético Huila', 'Western Sydney Wanderers',\n",
              "       'Kalmar FF', 'Independiente Medellín', 'Fortuna Sittard',\n",
              "       'Lech Poznań', 'Djurgårdens IF', 'CF Reus Deportiu', 'SK Brann',\n",
              "       'Ulsan Hyundai FC', 'Sint-Truidense VV', 'Carpi', 'Al Fateh',\n",
              "       'Royal Excel Mouscron', 'AC Ajaccio', 'PEC Zwolle', 'Sunderland',\n",
              "       'Club Atlético Aldosivi', 'US Salernitana 1919', 'FC Lorient',\n",
              "       'Argentinos Juniors', 'AD Alcorcón', 'Crotone', 'Excelsior',\n",
              "       'KV Kortrijk', 'IFK Norrköping', 'Adelaide United',\n",
              "       'FC St. Gallen', 'Tiburones Rojos de Veracruz', 'CD Palestino',\n",
              "       'Jeju United FC', 'Deportes Tolima', 'Jeonbuk Hyundai Motors',\n",
              "       'Birmingham City', 'América de Cali', 'La Equidad', 'Spezia',\n",
              "       'Aalborg BK', 'Le Havre AC', 'Górnik Zabrze',\n",
              "       'Central Coast Mariners', 'Wigan Athletic',\n",
              "       'Jagiellonia Białystok', 'Cittadella', 'Hibernian', 'FC Lugano',\n",
              "       'San Martín de San Juan', 'Strømsgodset IF', \"Newell's Old Boys\",\n",
              "       'Al Faisaly', 'Colorado Rapids', 'IF Elfsborg', 'SV Sandhausen',\n",
              "       'Al Batin', 'Stade Brestois 29', 'UD Almería', 'Gyeongnam FC',\n",
              "       'Yokohama F. Marinos', 'Kilmarnock', 'Pescara', 'Newcastle Jets',\n",
              "       'Córdoba CF', 'RCD Mallorca', 'Hammarby IF', 'Cerezo Osaka',\n",
              "       'KFC Uerdingen 05', 'Shimizu S-Pulse', 'MSV Duisburg',\n",
              "       'Os Belenenses', 'DSC Arminia Bielefeld', 'Ipswich Town',\n",
              "       'FC Seoul', 'Lechia Gdańsk', 'Gamba Osaka', 'CF Rayo Majadahonda',\n",
              "       'LASK Linz', 'Bolton Wanderers', 'Al Raed', 'Extremadura UD',\n",
              "       'SC Paderborn 07', 'Wellington Phoenix', 'Unión Española',\n",
              "       'Alianza Petrolera', 'Cracovia', 'Gangwon FC', 'Júbilo Iwata',\n",
              "       'Elche CF', 'AS Béziers', 'La Berrichonne de Châteauroux',\n",
              "       'Clermont Foot 63', 'ESTAC Troyes', '1. FC Magdeburg',\n",
              "       'Pohang Steelers', 'Örebro SK', 'Arka Gdynia', 'SG Dynamo Dresden',\n",
              "       'SpVgg Greuther Fürth', 'CD Huachipato', 'Wisła Kraków',\n",
              "       'Stabæk Fotball', 'Eintracht Braunschweig', 'Valenciennes FC',\n",
              "       'FC Thun', 'San Luis de Quillota', ' SSV Jahn Regensburg',\n",
              "       'Cosenza', 'FC Nordsjælland', 'FC Erzgebirge Aue',\n",
              "       'Jeonnam Dragons', 'Wolfsberger AC',\n",
              "       'Chamois Niortais Football Club', 'Club Deportes Temuco',\n",
              "       'AS Nancy Lorraine', 'Red Star FC', 'Al Hazem', 'Pogoń Szczecin',\n",
              "       'Charlton Athletic', 'Grenoble Foot 38', 'FC Hansa Rostock',\n",
              "       'San Martin de Tucumán', 'Incheon United FC', 'Śląsk Wrocław',\n",
              "       'GFC Ajaccio', '1. FC Kaiserslautern', 'Deportivo Pasto',\n",
              "       'Lincoln City', 'Motherwell', 'Rotherham United', 'Burton Albion',\n",
              "       'Wisła Płock', 'FC Wacker Innsbruck', 'Peterborough United',\n",
              "       'Ascoli', 'FC Zürich', 'Fleetwood Town', 'Padova',\n",
              "       'FC Sochaux-Montbéliard', 'SV Wehen Wiesbaden', 'Unión La Calera',\n",
              "       'Scunthorpe United', \"CD O'Higgins\", 'CD Antofagasta',\n",
              "       'Plymouth Argyle', 'Aarhus GF', 'Lillestrøm SK', 'Karlsruher SC',\n",
              "       'GIF Sundsvall', 'FC Emmen', 'Barnsley', 'Audax Italiano',\n",
              "       'V-Varen Nagasaki', 'Paris FC', 'SpVgg Unterhaching', 'Hobro IK',\n",
              "       'De Graafschap', 'Hokkaido Consadole Sapporo', 'Tromsø IL',\n",
              "       'FC Luzern', 'FK Haugesund', 'Zagłębie Lubin', 'VfR Aalen',\n",
              "       'Dundalk', 'Oxford United', 'Piast Gliwice', 'Ohod Club',\n",
              "       'Östersunds FK', 'Vegalta Sendai', 'Crawley Town',\n",
              "       'FC Admira Wacker Mödling', 'Vålerenga Fotball', 'Dundee FC',\n",
              "       'Portsmouth', 'Envigado FC', 'Miedź Legnica', 'Odds BK',\n",
              "       'SC Fortuna Köln', 'US Orléans Loiret Football', 'Sarpsborg 08 FF',\n",
              "       'Jaguares de Córdoba', 'Bradford City', 'Accrington Stanley',\n",
              "       'St. Johnstone FC', 'Boyacá Chicó FC', 'Luton Town',\n",
              "       'SV Mattersburg', 'Kristiansund BK', 'Sangju Sangmu FC',\n",
              "       'Rochdale', 'Walsall', 'Korona Kielce', 'Shonan Bellmare',\n",
              "       'FC Würzburger Kickers', 'FSV Zwickau', 'St. Mirren', 'AC Horsens',\n",
              "       'Esbjerg fB', 'HJK Helsinki', 'Southend United', 'Bristol Rovers',\n",
              "       'Hamilton Academical FC', 'TSV 1860 München', 'Curicó Unido',\n",
              "       'SCR Altach', 'Ranheim Fotball', 'Stevenage',\n",
              "       'SG Sonnenhof Großaspach', 'Oldham Athletic', 'Milton Keynes Dons',\n",
              "       'FK Bodø/Glimt', 'SC Preußen Münster', 'Wycombe Wanderers',\n",
              "       'Vejle Boldklub', 'Bury', 'Randers FC', 'VfL Osnabrück',\n",
              "       'SønderjyskE', 'IFK Göteborg', 'Mansfield Town', 'Coventry City',\n",
              "       'Waterford FC', 'Shrewsbury', 'IK Start', 'Gillingham',\n",
              "       'FC Energie Cottbus', 'FC Carl Zeiss Jena', 'Hallescher FC',\n",
              "       'SV Meppen', 'AFC Wimbledon', 'Blackpool', 'Doncaster Rovers',\n",
              "       'Sandefjord Fotball', 'VfL Sportfreunde Lotte', 'Cheltenham Town',\n",
              "       'IK Sirius', 'Vendsyssel FF', 'Swindon Town', 'Notts County',\n",
              "       'SKN St. Pölten', 'Exeter City', 'Northampton Town',\n",
              "       'Shamrock Rovers', 'Colchester United', 'Livingston FC',\n",
              "       'TSV Hartberg', 'Tranmere Rovers', 'Cambridge United',\n",
              "       'Grimsby Town', 'Port Vale', 'Itagüí Leones FC',\n",
              "       'Forest Green Rovers', 'Dalkurd FF', 'Zagłębie Sosnowiec',\n",
              "       'Carlisle United', 'Trelleborgs FF', \"St. Patrick's Athletic\",\n",
              "       'Morecambe', 'Cork City', 'IF Brommapojkarna', 'Crewe Alexandra',\n",
              "       'Yeovil Town', 'Bohemian FC', 'Macclesfield Town',\n",
              "       'Newport County', 'Sligo Rovers', 'Derry City', 'Limerick FC',\n",
              "       'Bray Wanderers'], dtype=object)"
            ]
          },
          "metadata": {},
          "execution_count": 15
        }
      ]
    },
    {
      "cell_type": "code",
      "source": [
        "club = data['Club'].value_counts().head(10)\n",
        "club"
      ],
      "metadata": {
        "colab": {
          "base_uri": "https://localhost:8080/"
        },
        "id": "RM9uiMapYhrf",
        "outputId": "4cef7d40-e52b-4f94-f114-5ea5536dc2e8"
      },
      "execution_count": 16,
      "outputs": [
        {
          "output_type": "execute_result",
          "data": {
            "text/plain": [
              "FC Barcelona               33\n",
              "Southampton                33\n",
              "Cardiff City               33\n",
              "TSG 1899 Hoffenheim        33\n",
              "Wolverhampton Wanderers    33\n",
              "RC Celta                   33\n",
              "Rayo Vallecano             33\n",
              "Fortuna Düsseldorf         33\n",
              "Valencia CF                33\n",
              "CD Leganés                 33\n",
              "Name: Club, dtype: int64"
            ]
          },
          "metadata": {},
          "execution_count": 16
        }
      ]
    },
    {
      "cell_type": "markdown",
      "source": [
        "**Visualizing the the data based on the Wage using plots**"
      ],
      "metadata": {
        "id": "AQmem0PcZFey"
      }
    },
    {
      "cell_type": "code",
      "source": [
        "sns.catplot(x = 'Club', y = 'Wage', data = data)"
      ],
      "metadata": {
        "colab": {
          "base_uri": "https://localhost:8080/",
          "height": 386
        },
        "id": "LeZMHka2g5td",
        "outputId": "2ce4c370-6631-4c58-fb96-4ec5a66486e4"
      },
      "execution_count": 17,
      "outputs": [
        {
          "output_type": "execute_result",
          "data": {
            "text/plain": [
              "<seaborn.axisgrid.FacetGrid at 0x7f9fca3f4bd0>"
            ]
          },
          "metadata": {},
          "execution_count": 17
        },
        {
          "output_type": "display_data",
          "data": {
            "text/plain": [
              "<Figure size 360x360 with 1 Axes>"
            ],
            "image/png": "[encoded data removed]"
          },
          "metadata": {}
        }
      ]
    },
    {
      "cell_type": "markdown",
      "source": [
        "**Plotting the Potential of the Players in each Club**"
      ],
      "metadata": {
        "id": "YPKwx9qNjcPG"
      }
    },
    {
      "cell_type": "code",
      "source": [
        "df1 =data[data['Potential']>85]\n",
        "plt.figure(figsize = (10,5))\n",
        "sns.violinplot(x = 'Club', y = 'Potential', data = df1, scale = 'count', linewidth = 0.5)"
      ],
      "metadata": {
        "colab": {
          "base_uri": "https://localhost:8080/",
          "height": 351
        },
        "id": "5sBiMqwwi9XM",
        "outputId": "fd61e8f2-761b-452a-d087-b8684a52d9d3"
      },
      "execution_count": 19,
      "outputs": [
        {
          "output_type": "execute_result",
          "data": {
            "text/plain": [
              "<matplotlib.axes._subplots.AxesSubplot at 0x7f9fc5cebd90>"
            ]
          },
          "metadata": {},
          "execution_count": 19
        },
        {
          "output_type": "display_data",
          "data": {
            "text/plain": [
              "<Figure size 720x360 with 1 Axes>"
            ],
            "image/png": "[encoded data removed]"
          },
          "metadata": {}
        }
      ]
    },
    {
      "cell_type": "markdown",
      "source": [
        "**Plotting the Values of the players based on potential**"
      ],
      "metadata": {
        "id": "_4vjLNJcjzEt"
      }
    },
    {
      "cell_type": "code",
      "source": [
        "plt.figure(figsize=(8, 6))\n",
        "sns.barplot(data=data, x='Potential', y='Value')"
      ],
      "metadata": {
        "colab": {
          "base_uri": "https://localhost:8080/",
          "height": 405
        },
        "id": "JF7TO6DVjzWc",
        "outputId": "78aca221-3e9a-4e10-be50-ecb41c2ba40c"
      },
      "execution_count": 22,
      "outputs": [
        {
          "output_type": "execute_result",
          "data": {
            "text/plain": [
              "<matplotlib.axes._subplots.AxesSubplot at 0x7f9fc36d0b90>"
            ]
          },
          "metadata": {},
          "execution_count": 22
        },
        {
          "output_type": "display_data",
          "data": {
            "text/plain": [
              "<Figure size 576x432 with 1 Axes>"
            ],
            "image/png": "[encoded data removed]"
          },
          "metadata": {}
        }
      ]
    },
    {
      "cell_type": "markdown",
      "source": [
        "**Wordcloud of the Names of Players**"
      ],
      "metadata": {
        "id": "Gdkg7XOGnlzz"
      }
    },
    {
      "cell_type": "code",
      "source": [
        "from wordcloud import WordCloud\n",
        "text = \" \".join(review for review in data.Name)\n",
        "wordcloud = WordCloud(background_color=\"black\").generate(text)\n",
        "plt.imshow(wordcloud, interpolation='bilinear')\n",
        "plt.axis(\"off\")\n",
        "plt.show()"
      ],
      "metadata": {
        "colab": {
          "base_uri": "https://localhost:8080/",
          "height": 198
        },
        "id": "AZQNyyhsng9A",
        "outputId": "8231076d-2346-4d66-a8bd-377c21ed62d9"
      },
      "execution_count": 30,
      "outputs": [
        {
          "output_type": "display_data",
          "data": {
            "text/plain": [
              "<Figure size 432x288 with 1 Axes>"
            ],
            "image/png": "[encoded data removed]"
          },
          "metadata": {}
        }
      ]
    },
    {
      "cell_type": "markdown",
      "source": [
        "**Using a Scatter plot to Visualize the value of clubs**"
      ],
      "metadata": {
        "id": "3eJ3MKb1mSrv"
      }
    },
    {
      "cell_type": "code",
      "source": [
        "fig, ax = plt.subplots(figsize=(10,6))\n",
        "ax.scatter(data['Club'], data['Value'])\n",
        "ax.set_xlabel('Club')\n",
        "ax.set_ylabel('Value')\n",
        "plt.show()"
      ],
      "metadata": {
        "colab": {
          "base_uri": "https://localhost:8080/",
          "height": 390
        },
        "id": "TH5VG58zl74I",
        "outputId": "dd9c421f-7540-4e22-c695-aa154fda55c4"
      },
      "execution_count": 28,
      "outputs": [
        {
          "output_type": "display_data",
          "data": {
            "text/plain": [
              "<Figure size 720x432 with 1 Axes>"
            ],
            "image/png": "[encoded data removed]"
          },
          "metadata": {}
        }
      ]
    },
    {
      "cell_type": "markdown",
      "source": [
        "**Using D3 For Visualizations**"
      ],
      "metadata": {
        "id": "gZu8EkPYkgTM"
      }
    },
    {
      "cell_type": "code",
      "source": [
        "!pip install ipython"
      ],
      "metadata": {
        "colab": {
          "base_uri": "https://localhost:8080/"
        },
        "id": "W76nFXUwkgdE",
        "outputId": "6e26fdce-2212-47ac-dda8-e1abc3fb962e"
      },
      "execution_count": 23,
      "outputs": [
        {
          "output_type": "stream",
          "name": "stdout",
          "text": [
            "Looking in indexes: https://pypi.org/simple, https://us-python.pkg.dev/colab-wheels/public/simple/\n",
            "Requirement already satisfied: ipython in /usr/local/lib/python3.7/dist-packages (7.9.0)\n",
            "Collecting jedi>=0.10\n",
            "  Downloading jedi-0.18.1-py2.py3-none-any.whl (1.6 MB)\n",
            "\u001b[K     |████████████████████████████████| 1.6 MB 5.3 MB/s \n",
            "\u001b[?25hRequirement already satisfied: decorator in /usr/local/lib/python3.7/dist-packages (from ipython) (4.4.2)\n",
            "Requirement already satisfied: prompt-toolkit<2.1.0,>=2.0.0 in /usr/local/lib/python3.7/dist-packages (from ipython) (2.0.10)\n",
            "Requirement already satisfied: pickleshare in /usr/local/lib/python3.7/dist-packages (from ipython) (0.7.5)\n",
            "Requirement already satisfied: backcall in /usr/local/lib/python3.7/dist-packages (from ipython) (0.2.0)\n",
            "Requirement already satisfied: setuptools>=18.5 in /usr/local/lib/python3.7/dist-packages (from ipython) (57.4.0)\n",
            "Requirement already satisfied: pexpect in /usr/local/lib/python3.7/dist-packages (from ipython) (4.8.0)\n",
            "Requirement already satisfied: pygments in /usr/local/lib/python3.7/dist-packages (from ipython) (2.6.1)\n",
            "Requirement already satisfied: traitlets>=4.2 in /usr/local/lib/python3.7/dist-packages (from ipython) (5.1.1)\n",
            "Requirement already satisfied: parso<0.9.0,>=0.8.0 in /usr/local/lib/python3.7/dist-packages (from jedi>=0.10->ipython) (0.8.3)\n",
            "Requirement already satisfied: wcwidth in /usr/local/lib/python3.7/dist-packages (from prompt-toolkit<2.1.0,>=2.0.0->ipython) (0.2.5)\n",
            "Requirement already satisfied: six>=1.9.0 in /usr/local/lib/python3.7/dist-packages (from prompt-toolkit<2.1.0,>=2.0.0->ipython) (1.15.0)\n",
            "Requirement already satisfied: ptyprocess>=0.5 in /usr/local/lib/python3.7/dist-packages (from pexpect->ipython) (0.7.0)\n",
            "Installing collected packages: jedi\n",
            "Successfully installed jedi-0.18.1\n"
          ]
        }
      ]
    },
    {
      "cell_type": "code",
      "source": [
        "from IPython.display import HTML\n",
        "import IPython.display as dp\n",
        "from string import Template"
      ],
      "metadata": {
        "id": "4skbR9rDk_DH"
      },
      "execution_count": 41,
      "outputs": []
    },
    {
      "cell_type": "code",
      "source": [
        "data.to_csv('fifa19.csv', index=False)"
      ],
      "metadata": {
        "id": "o0DKLnW3lT2g"
      },
      "execution_count": 29,
      "outputs": []
    },
    {
      "cell_type": "code",
      "source": [
        "from string import Template\n",
        "HTML('''\n",
        "<html lang=\"en\">\n",
        "<head>\n",
        "      <meta charset=\"UTF-8\">\n",
        "      <script src=\"https://d3js.org/d3.v7.min.js\"></script>\n",
        "\n",
        "      <title>D3 with DS4E</title>\n",
        "      <style>\n",
        "          .bar{\n",
        "              fill: navy;\n",
        "          }\n",
        "      </style>\n",
        "      <script>\n",
        "   function main(){\n",
        "  var svg = d3.select(\"svg\"),\n",
        "  margin = 200,\n",
        "  width = svg.attr(\"width\") - margin,\n",
        "  height = svg.attr(\"height\") - margin;\n",
        "  var xscale = d3.scaleBand().range([0, width]).padding(0.4),\n",
        "      yscale = d3.scaleLinear().range([height,0]);\n",
        "\n",
        "  var g = svg.append(\"g\").attr(\"transform\", \"translate(\"+100+\",\"+100+\")\");\n",
        "  d3.csv(\"/content/fifa19.csv\").then(function(data){\n",
        "      \n",
        "      xscale.domain(data.map(function(d){return d.neighbourhood_group;}));\n",
        "      console.log(xscale);\n",
        "      yscale.domain([0,d3.max(data,function(d){return d.price;})]);\n",
        "      g.append(\"g\").attr('transform', 'translate(0,'+height+')')\n",
        "          .call(d3.axisBottom(xscale))\n",
        "      g.append(\"g\").call(d3.axisLeft(yscale).tickFormat(function(d){\n",
        "              return \"$\" + d;\n",
        "      }).ticks(10));\n",
        "\n",
        "      g.selectAll(\".bar\")\n",
        "            .data(data)\n",
        "            .enter().append(\"rect\")\n",
        "            .attr(\"class\",\"bar\")\n",
        "            .attr(\"x\",function(d){return xscale(d.neighbourhood_group);})\n",
        "            .attr(\"y\",function(d){return yscale(d.price);})\n",
        "            .attr(\"width\",xscale.bandwidth())\n",
        "            .attr(\"height\",function(d){return height - yscale(d.price);});\n",
        "      });\n",
        "    }\n",
        "\n",
        "\n",
        "\n",
        "      </script>\n",
        "</head>\n",
        "<body onload=\"main();\">\n",
        "    <svg width=600 height=600></svg>\n",
        "\n",
        "\n",
        "</body>\n",
        "</html>\n",
        "''')"
      ],
      "metadata": {
        "colab": {
          "base_uri": "https://localhost:8080/",
          "height": 621
        },
        "id": "37HtDKrWvIqQ",
        "outputId": "236410e5-ea94-4491-afc4-10ddfd2bee62"
      },
      "execution_count": 62,
      "outputs": [
        {
          "output_type": "execute_result",
          "data": {
            "text/plain": [
              "<IPython.core.display.HTML object>"
            ],
            "text/html": [
              "\n",
              "<html lang=\"en\">\n",
              "<head>\n",
              "      <meta charset=\"UTF-8\">\n",
              "      <script src=\"https://d3js.org/d3.v7.min.js\"></script>\n",
              "\n",
              "      <title>D3 with DS4E</title>\n",
              "      <style>\n",
              "          .bar{\n",
              "              fill: navy;\n",
              "          }\n",
              "      </style>\n",
              "      <script>\n",
              "   function main(){\n",
              "  var svg = d3.select(\"svg\"),\n",
              "  margin = 200,\n",
              "  width = svg.attr(\"width\") - margin,\n",
              "  height = svg.attr(\"height\") - margin;\n",
              "  var xscale = d3.scaleBand().range([0, width]).padding(0.4),\n",
              "      yscale = d3.scaleLinear().range([height,0]);\n",
              "\n",
              "  var g = svg.append(\"g\").attr(\"transform\", \"translate(\"+100+\",\"+100+\")\");\n",
              "  d3.csv(\"/content/fifa19.csv\").then(function(data){\n",
              "      \n",
              "      xscale.domain(data.map(function(d){return d.neighbourhood_group;}));\n",
              "      console.log(xscale);\n",
              "      yscale.domain([0,d3.max(data,function(d){return d.price;})]);\n",
              "      g.append(\"g\").attr('transform', 'translate(0,'+height+')')\n",
              "          .call(d3.axisBottom(xscale))\n",
              "      g.append(\"g\").call(d3.axisLeft(yscale).tickFormat(function(d){\n",
              "              return \"$\" + d;\n",
              "      }).ticks(10));\n",
              "\n",
              "      g.selectAll(\".bar\")\n",
              "            .data(data)\n",
              "            .enter().append(\"rect\")\n",
              "            .attr(\"class\",\"bar\")\n",
              "            .attr(\"x\",function(d){return xscale(d.neighbourhood_group);})\n",
              "            .attr(\"y\",function(d){return yscale(d.price);})\n",
              "            .attr(\"width\",xscale.bandwidth())\n",
              "            .attr(\"height\",function(d){return height - yscale(d.price);});\n",
              "      });\n",
              "    }\n",
              "\n",
              "\n",
              "\n",
              "      </script>\n",
              "</head>\n",
              "<body onload=\"main();\">\n",
              "    <svg width=600 height=600></svg>\n",
              "\n",
              "\n",
              "</body>\n",
              "</html>\n"
            ]
          },
          "metadata": {},
          "execution_count": 62
        }
      ]
    },
    {
      "cell_type": "markdown",
      "source": [
        "The Above script is not reading data from the csv file tried using manual data"
      ],
      "metadata": {
        "id": "21Pl3WZSDgvz"
      }
    },
    {
      "cell_type": "code",
      "source": [
        "from string import Template\n",
        "HTML('''\n",
        "<!DOCTYPE html>\n",
        "<head>\n",
        "  <meta charset=\"utf-8\">\n",
        "  <script src=\"https://d3js.org/d3.v4.min.js\"></script>\n",
        "</head>\n",
        "\n",
        "<body>\n",
        "  <div>\n",
        "    <button id=\"btn\" onclick=\"changeData()\">Change Data</button>\n",
        "  </div>\n",
        "\n",
        "  <script>\n",
        "    \n",
        "\n",
        "    var width = 600;\n",
        "    var height = 400;\n",
        "    var datasets = [\n",
        "        [10, 30, 40, 20],\n",
        "        [10, 40, 30, 20, 50, 10],\n",
        "        [60, 30, 40, 20, 30]\n",
        "    ]\n",
        "    \n",
        "    var svg = d3.select(\"body\").append(\"svg\")\n",
        "                .attr(\"width\", width)\n",
        "                .attr(\"height\", height)\n",
        "                .style(\"border\", \"1px solid black\")\n",
        "\n",
        "    function drawChart(data) {\n",
        "        var selection = svg.selectAll(\"rect\").data(data);\n",
        "        var yScale = d3.scaleLinear()\n",
        "                        .domain([0, d3.max(data)])\n",
        "                        .range([0, height-100]);\n",
        "    \n",
        "        selection\n",
        "            .transition().duration(300)\n",
        "                .attr(\"height\", (d) => yScale(d))\n",
        "                .attr(\"y\", (d) => height - yScale(d))\n",
        "\n",
        "        selection\n",
        "            .enter()\n",
        "            .append(\"rect\")\n",
        "            .attr(\"x\", (d, i) => i * 45)\n",
        "            .attr(\"y\", (d) => height)\n",
        "            .attr(\"width\", 40)\n",
        "            .attr(\"height\", 0)\n",
        "            .attr(\"fill\", \"orange\")\n",
        "            .transition().duration(300)\n",
        "                .attr(\"height\", (d) => yScale(d))\n",
        "                .attr(\"y\", (d) => height - yScale(d))\n",
        "        \n",
        "        selection\n",
        "            .exit()\n",
        "            .transition().duration(300)\n",
        "                .attr(\"y\", (d) => height)\n",
        "                .attr(\"height\", 0)\n",
        "            .remove()\n",
        "    }\n",
        "\n",
        "    var i = 0;\n",
        "    function changeData(){\n",
        "        drawChart(datasets[i++]);\n",
        "        if(i == datasets.length) i = 0;\n",
        "    }\n",
        "\n",
        "    window.addEventListener('load', function() {\n",
        "        changeData();\n",
        "    });\n",
        "\n",
        "  </script>\n",
        "</body>\n",
        "</html>''')"
      ],
      "metadata": {
        "colab": {
          "base_uri": "https://localhost:8080/",
          "height": 445
        },
        "id": "W1aYL2aq2nfO",
        "outputId": "0d8711bf-b3a7-4595-84d9-901da7ee99f1"
      },
      "execution_count": 63,
      "outputs": [
        {
          "output_type": "execute_result",
          "data": {
            "text/plain": [
              "<IPython.core.display.HTML object>"
            ],
            "text/html": [
              "\n",
              "<!DOCTYPE html>\n",
              "<head>\n",
              "  <meta charset=\"utf-8\">\n",
              "  <script src=\"https://d3js.org/d3.v4.min.js\"></script>\n",
              "</head>\n",
              "\n",
              "<body>\n",
              "  <div>\n",
              "    <button id=\"btn\" onclick=\"changeData()\">Change Data</button>\n",
              "  </div>\n",
              "\n",
              "  <script>\n",
              "    function main(){\n",
              "  var svg = d3.select(\"svg\"),\n",
              "  margin = 200,\n",
              "  width = svg.attr(\"width\") - margin,\n",
              "  height = svg.attr(\"height\") - margin;\n",
              "  var xscale = d3.scaleBand().range([0, width]).padding(0.4),\n",
              "      yscale = d3.scaleLinear().range([height,0]);\n",
              "\n",
              "  var g = svg.append(\"g\").attr(\"transform\", \"translate(\"+100+\",\"+100+\")\");\n",
              "  d3.csv(\"/content/fifa19.csv\").then(function(data){\n",
              "      \n",
              "      xscale.domain(data.map(function(d){return d.neighbourhood_group;}));\n",
              "      console.log(xscale);\n",
              "      yscale.domain([0,d3.max(data,function(d){return d.price;})]);\n",
              "      g.append(\"g\").attr('transform', 'translate(0,'+height+')')\n",
              "          .call(d3.axisBottom(xscale))\n",
              "      g.append(\"g\").call(d3.axisLeft(yscale).tickFormat(function(d){\n",
              "              return \"$\" + d;\n",
              "      }).ticks(10));\n",
              "\n",
              "      g.selectAll(\".bar\")\n",
              "            .data(data)\n",
              "            .enter().append(\"rect\")\n",
              "            .attr(\"class\",\"bar\")\n",
              "            .attr(\"x\",function(d){return xscale(d.neighbourhood_group);})\n",
              "            .attr(\"y\",function(d){return yscale(d.price);})\n",
              "            .attr(\"width\",xscale.bandwidth())\n",
              "            .attr(\"height\",function(d){return height - yscale(d.price);});\n",
              "      });\n",
              "    }\n",
              "\n",
              "    var width = 600;\n",
              "    var height = 400;\n",
              "    var datasets = [\n",
              "        [10, 30, 40, 20],\n",
              "        [10, 40, 30, 20, 50, 10],\n",
              "        [60, 30, 40, 20, 30]\n",
              "    ]\n",
              "    \n",
              "    var svg = d3.select(\"body\").append(\"svg\")\n",
              "                .attr(\"width\", width)\n",
              "                .attr(\"height\", height)\n",
              "                .style(\"border\", \"1px solid black\")\n",
              "\n",
              "    function drawChart(data) {\n",
              "        var selection = svg.selectAll(\"rect\").data(data);\n",
              "        var yScale = d3.scaleLinear()\n",
              "                        .domain([0, d3.max(data)])\n",
              "                        .range([0, height-100]);\n",
              "    \n",
              "        selection\n",
              "            .transition().duration(300)\n",
              "                .attr(\"height\", (d) => yScale(d))\n",
              "                .attr(\"y\", (d) => height - yScale(d))\n",
              "\n",
              "        selection\n",
              "            .enter()\n",
              "            .append(\"rect\")\n",
              "            .attr(\"x\", (d, i) => i * 45)\n",
              "            .attr(\"y\", (d) => height)\n",
              "            .attr(\"width\", 40)\n",
              "            .attr(\"height\", 0)\n",
              "            .attr(\"fill\", \"orange\")\n",
              "            .transition().duration(300)\n",
              "                .attr(\"height\", (d) => yScale(d))\n",
              "                .attr(\"y\", (d) => height - yScale(d))\n",
              "        \n",
              "        selection\n",
              "            .exit()\n",
              "            .transition().duration(300)\n",
              "                .attr(\"y\", (d) => height)\n",
              "                .attr(\"height\", 0)\n",
              "            .remove()\n",
              "    }\n",
              "\n",
              "    var i = 0;\n",
              "    function changeData(){\n",
              "        drawChart(datasets[i++]);\n",
              "        if(i == datasets.length) i = 0;\n",
              "    }\n",
              "\n",
              "    window.addEventListener('load', function() {\n",
              "        changeData();\n",
              "    });\n",
              "\n",
              "  </script>\n",
              "</body>\n",
              "</html>"
            ]
          },
          "metadata": {},
          "execution_count": 63
        }
      ]
    },
    {
      "cell_type": "code",
      "source": [],
      "metadata": {
        "id": "M3y-Gb1N2sjq"
      },
      "execution_count": 54,
      "outputs": []
    }
  ]
}